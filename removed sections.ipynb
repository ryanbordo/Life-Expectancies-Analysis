{
 "cells": [
  {
   "cell_type": "markdown",
   "id": "5c3a445c",
   "metadata": {},
   "source": [
    "### Feedback from Reviewers\n",
    "\n",
    "Research Question: not really a question? But I see what you're going for\n",
    "\n",
    "Data Cleaning: looks like a lot done here, but I recommend clearer descriptions of the code chunks\n",
    "\n",
    "Data Description: brief summary, can be more specific on column descriptions and contexts of each individual dataset used\n",
    "\n",
    "Limitations: Good start, but are there any other limitations in terms of missing information/how it was collected?\n",
    "\n",
    "EDA: Summary stats should come before the regression analysis. Good regression, but what are other relationships between variables and what do their distributions look like?\n",
    "\n",
    "Reviewer Questions:\n",
    "You can also use paired scatterplots to plot variables against each other to see if they are collinear or not"
   ]
  },
  {
   "cell_type": "markdown",
   "id": "6307cc99",
   "metadata": {},
   "source": [
    "## Multivariate Regression Model\n",
    "\n",
    "For further analysis, we will run a linear regression and predict some life expectancies to get a residual error chart."
   ]
  },
  {
   "cell_type": "code",
   "execution_count": null,
   "id": "4059cbe1",
   "metadata": {},
   "outputs": [],
   "source": [
    "data = df_final.iloc[:,2:]\n",
    "expected = df_final[\"Life Expectancy\"]\n",
    "model = LinearRegression().fit(data,expected)\n",
    "predicted = model.predict(data)\n",
    "residuals = predicted-expected\n",
    "mse = np.mean((residuals)**2)\n",
    "slopes = pd.DataFrame(data = model.coef_.reshape(1,9),columns = df_final.iloc[:,2:].columns)\n",
    "print (\"\\nMSE:\",mse,\"\\nIntercept:\",model.intercept_,\"\\nSlopes:\")\n",
    "print(\"R squared\", model.score(data,expected))\n",
    "slopes.head()"
   ]
  },
  {
   "cell_type": "code",
   "execution_count": null,
   "id": "76a6e543",
   "metadata": {},
   "outputs": [],
   "source": [
    "sns.scatterplot(x = predicted, y = residuals).set(xlabel='Predicted Life Expectancy', ylabel='Residuals')"
   ]
  }
 ],
 "metadata": {
  "kernelspec": {
   "display_name": "Python 3 (ipykernel)",
   "language": "python",
   "name": "python3"
  },
  "language_info": {
   "codemirror_mode": {
    "name": "ipython",
    "version": 3
   },
   "file_extension": ".py",
   "mimetype": "text/x-python",
   "name": "python",
   "nbconvert_exporter": "python",
   "pygments_lexer": "ipython3",
   "version": "3.9.7"
  }
 },
 "nbformat": 4,
 "nbformat_minor": 5
}
