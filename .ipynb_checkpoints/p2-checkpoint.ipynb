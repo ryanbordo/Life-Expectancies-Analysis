{
 "cells": [
  {
   "cell_type": "markdown",
   "metadata": {},
   "source": [
    "# Project Phase II\n",
    "\n",
    "### Research Question(s)\n",
    "\n",
    "A person's life expentancy is a given country can be predicted by different metrics of their country, including violent crime rates, health care, diet, economic development, genetics, and happiness level."
   ]
  },
  {
   "cell_type": "markdown",
   "metadata": {},
   "source": [
    "### Data Collection and Cleaning\n",
    "\n",
    "Have an initial draft of your data cleaning\n",
    "appendix. Document every step that takes your raw data file(s) and turns it\n",
    "into the analysis-ready data set that you would submit with your final\n",
    "project. Include text cells describing your data collection (downloading,\n",
    "scraping, surveys, etc), and text cells describing any additional data\n",
    "curation/cleaning (merging data frames, filtering, transformations of\n",
    "variables, etc). Include code cells for data curation/cleaning, but not\n",
    "collection. Note: You should be saving data in intermediate files at several\n",
    "points through this process so that you are not starting from scratch every\n",
    "time you change something. This also makes sure you have\n",
    "documentation for everything that you have done for your reference, but\n",
    "we do not necessarily need to see all of it in code form.\n",
    "\n",
    "- Ryan: life expectancies, violent crime\n",
    "- John: health care, diet, economic develpment\n",
    "- Chase: genetics, happiness level\n",
    "\n",
    "1. Find all data\n",
    "- Each person does their assigned data set\n",
    "2. Clean data sets\n",
    "- Each person does their assigned data set\n",
    "3. Group data sets (if needed)\n",
    "- Each person does their assigned data set\n",
    "4. Join data sets\n",
    "- Chase"
   ]
  },
  {
   "cell_type": "code",
   "execution_count": 98,
   "metadata": {
    "scrolled": true
   },
   "outputs": [
    {
     "name": "stdout",
     "output_type": "stream",
     "text": [
      "The sql extension is already loaded. To reload it, use:\n",
      "  %reload_ext sql\n"
     ]
    }
   ],
   "source": [
    "import numpy as np\n",
    "import seaborn as sns\n",
    "import pandas as pd\n",
    "import matplotlib.pyplot as plt\n",
    "import regex as re\n",
    "import requests\n",
    "from bs4 import BeautifulSoup\n",
    "\n",
    "%load_ext sql\n",
    "\n",
    "%config SqlMagic.autopandas = True\n",
    "%config SqlMagic.feedback = False\n",
    "%config SqlMagic.displaycon = False\n",
    "\n",
    "%sql duckdb:///:memory:"
   ]
  },
  {
   "cell_type": "code",
   "execution_count": 94,
   "metadata": {
    "scrolled": true
   },
   "outputs": [
    {
     "data": {
      "text/html": [
       "<div>\n",
       "<style scoped>\n",
       "    .dataframe tbody tr th:only-of-type {\n",
       "        vertical-align: middle;\n",
       "    }\n",
       "\n",
       "    .dataframe tbody tr th {\n",
       "        vertical-align: top;\n",
       "    }\n",
       "\n",
       "    .dataframe thead th {\n",
       "        text-align: right;\n",
       "    }\n",
       "</style>\n",
       "<table border=\"1\" class=\"dataframe\">\n",
       "  <thead>\n",
       "    <tr style=\"text-align: right;\">\n",
       "      <th></th>\n",
       "      <th>Country</th>\n",
       "      <th>Life Expectancy</th>\n",
       "    </tr>\n",
       "  </thead>\n",
       "  <tbody>\n",
       "    <tr>\n",
       "      <th>0</th>\n",
       "      <td>Aruba</td>\n",
       "      <td>76.434000</td>\n",
       "    </tr>\n",
       "    <tr>\n",
       "      <th>1</th>\n",
       "      <td>Africa Eastern and Southern</td>\n",
       "      <td>64.325702</td>\n",
       "    </tr>\n",
       "    <tr>\n",
       "      <th>2</th>\n",
       "      <td>Afghanistan</td>\n",
       "      <td>65.173000</td>\n",
       "    </tr>\n",
       "    <tr>\n",
       "      <th>3</th>\n",
       "      <td>Africa Western and Central</td>\n",
       "      <td>58.445953</td>\n",
       "    </tr>\n",
       "    <tr>\n",
       "      <th>4</th>\n",
       "      <td>Angola</td>\n",
       "      <td>61.487000</td>\n",
       "    </tr>\n",
       "  </tbody>\n",
       "</table>\n",
       "</div>"
      ],
      "text/plain": [
       "                       Country  Life Expectancy\n",
       "0                        Aruba        76.434000\n",
       "1  Africa Eastern and Southern        64.325702\n",
       "2                  Afghanistan        65.173000\n",
       "3   Africa Western and Central        58.445953\n",
       "4                       Angola        61.487000"
      ]
     },
     "execution_count": 94,
     "metadata": {},
     "output_type": "execute_result"
    }
   ],
   "source": [
    "df_life_expectancies = pd.read_csv(\"data\\\\life-expectancies.csv\")\n",
    "df_life_expectancies = df_life_expectancies[[\"Country Name\",\"2020\"]].rename(columns={\"Country Name\" : \"Country\",\"2020\" : \"Life Expectancy\"})\n",
    "df_life_expectancies.head(5)"
   ]
  },
  {
   "cell_type": "markdown",
   "metadata": {},
   "source": [
    "### Life Expectancy Data\n",
    "#### https://data.worldbank.org/indicator/SP.DYN.CDRT.IN\n",
    "I found and used this dataset after discovering that the original data we wanted to use from the UN only allowed 100k rows to be downloaded. I downloaded this data and filtered down to the two columns we were looking for, country name, and the most recent year of data. I then renamed these columns to be simplified to \"Country\" and \"Life Expectancy\"."
   ]
  },
  {
   "cell_type": "code",
   "execution_count": 120,
   "metadata": {},
   "outputs": [
    {
     "data": {
      "text/html": [
       "<div>\n",
       "<style scoped>\n",
       "    .dataframe tbody tr th:only-of-type {\n",
       "        vertical-align: middle;\n",
       "    }\n",
       "\n",
       "    .dataframe tbody tr th {\n",
       "        vertical-align: top;\n",
       "    }\n",
       "\n",
       "    .dataframe thead th {\n",
       "        text-align: right;\n",
       "    }\n",
       "</style>\n",
       "<table border=\"1\" class=\"dataframe\">\n",
       "  <thead>\n",
       "    <tr style=\"text-align: right;\">\n",
       "      <th></th>\n",
       "      <th>Country</th>\n",
       "      <th>Homicide Rate</th>\n",
       "      <th>Year</th>\n",
       "    </tr>\n",
       "  </thead>\n",
       "  <tbody>\n",
       "    <tr>\n",
       "      <th>0</th>\n",
       "      <td>El Salvador</td>\n",
       "      <td>52.02</td>\n",
       "      <td>2018.0</td>\n",
       "    </tr>\n",
       "    <tr>\n",
       "      <th>1</th>\n",
       "      <td>United States Virgin Islands</td>\n",
       "      <td>49.28</td>\n",
       "      <td>2012.0</td>\n",
       "    </tr>\n",
       "    <tr>\n",
       "      <th>2</th>\n",
       "      <td>Jamaica</td>\n",
       "      <td>43.85</td>\n",
       "      <td>2018.0</td>\n",
       "    </tr>\n",
       "    <tr>\n",
       "      <th>3</th>\n",
       "      <td>Lesotho</td>\n",
       "      <td>43.56</td>\n",
       "      <td>2015.0</td>\n",
       "    </tr>\n",
       "    <tr>\n",
       "      <th>4</th>\n",
       "      <td>Honduras</td>\n",
       "      <td>38.93</td>\n",
       "      <td>2018.0</td>\n",
       "    </tr>\n",
       "  </tbody>\n",
       "</table>\n",
       "</div>"
      ],
      "text/plain": [
       "                        Country  Homicide Rate    Year\n",
       "0                   El Salvador          52.02  2018.0\n",
       "1  United States Virgin Islands          49.28  2012.0\n",
       "2                       Jamaica          43.85  2018.0\n",
       "3                       Lesotho          43.56  2015.0\n",
       "4                      Honduras          38.93  2018.0"
      ]
     },
     "execution_count": 120,
     "metadata": {},
     "output_type": "execute_result"
    }
   ],
   "source": [
    "df_crime = pd.read_csv(\"data\\\\violent-crime-rates.csv\")\n",
    "df_crime = df_crime[[\"country\",\"homRate\",\"homRateYear\"]].rename(columns={\"country\":\"Country\",\"homRate\":\"Homicide Rate\",\"homRateYear\":\"Year\"})\n",
    "df_crime.head(5)"
   ]
  },
  {
   "cell_type": "markdown",
   "metadata": {},
   "source": [
    "## Intentional Homicide Rate\n",
    "#### https://worldpopulationreview.com/country-rankings/murder-rate-by-country\n",
    "I have found and used the violent crime dataset from the world population review. I then downloaded it and read it into a pandas data frame. I think narrowed it down to our columns of interest and renamed them."
   ]
  },
  {
   "cell_type": "markdown",
   "metadata": {},
   "source": [
    "### Data Description\n",
    "\n",
    "Have an initial draft of your data description (link in syllabus) section.\n",
    "Your data description should be about your analysis-ready data."
   ]
  },
  {
   "cell_type": "markdown",
   "metadata": {},
   "source": [
    "### Data Limitations\n",
    "\n",
    "Identify any potential problems with your dataset."
   ]
  },
  {
   "cell_type": "markdown",
   "metadata": {},
   "source": [
    "### Exploratory Data Analysis\n",
    "\n",
    "Perform an (initial) exploratory data analysis.\n",
    "\n",
    "1. Collinearity test\n",
    "2. Multivariate regression model\n",
    "3. Plots\n",
    "4. Summary stats"
   ]
  },
  {
   "cell_type": "markdown",
   "metadata": {},
   "source": [
    "### Questions for Reviewers\n",
    "\n",
    "List specific questions for your peer reviewers\n",
    "and project mentor to answer in giving you feedback on this phase."
   ]
  }
 ],
 "metadata": {
  "kernelspec": {
   "display_name": "Python 3 (ipykernel)",
   "language": "python",
   "name": "python3"
  },
  "language_info": {
   "codemirror_mode": {
    "name": "ipython",
    "version": 3
   },
   "file_extension": ".py",
   "mimetype": "text/x-python",
   "name": "python",
   "nbconvert_exporter": "python",
   "pygments_lexer": "ipython3",
   "version": "3.9.13"
  }
 },
 "nbformat": 4,
 "nbformat_minor": 2
}
