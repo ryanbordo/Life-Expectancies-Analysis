{
 "cells": [
  {
   "cell_type": "markdown",
   "metadata": {},
   "source": [
    "# Project Phase II\n",
    "\n",
    "### Research Question(s)\n",
    "\n",
    "A person's life expentancy is a given country can be predicted by different metrics of their country, including violent crime rates, health care, diet, economic development, genetics, and happiness level."
   ]
  },
  {
   "cell_type": "markdown",
   "metadata": {},
   "source": [
    "### Data Collection and Cleaning\n",
    "\n",
    "Have an initial draft of your data cleaning\n",
    "appendix. Document every step that takes your raw data file(s) and turns it\n",
    "into the analysis-ready data set that you would submit with your final\n",
    "project. Include text cells describing your data collection (downloading,\n",
    "scraping, surveys, etc), and text cells describing any additional data\n",
    "curation/cleaning (merging data frames, filtering, transformations of\n",
    "variables, etc). Include code cells for data curation/cleaning, but not\n",
    "collection. Note: You should be saving data in intermediate files at several\n",
    "points through this process so that you are not starting from scratch every\n",
    "time you change something. This also makes sure you have\n",
    "documentation for everything that you have done for your reference, but\n",
    "we do not necessarily need to see all of it in code form.\n",
    "\n",
    "- Ryan: life expectancies, violent crime\n",
    "- John: health care, diet, economic develpment\n",
    "- Chase: genetics, happiness level\n",
    "\n",
    "1. Find all data\n",
    "- Each person does their assigned data set\n",
    "2. Clean data sets\n",
    "- Each person does their assigned data set\n",
    "3. Group data sets (if needed)\n",
    "- Each person does their assigned data set\n",
    "4. Join data sets\n",
    "- Chase"
   ]
  },
  {
   "cell_type": "markdown",
   "metadata": {},
   "source": [
    "### Data Description\n",
    "\n",
    "Have an initial draft of your data description (link in syllabus) section.\n",
    "Your data description should be about your analysis-ready data."
   ]
  },
  {
   "cell_type": "markdown",
   "metadata": {},
   "source": [
    "### Data Limitations\n",
    "\n",
    "Identify any potential problems with your dataset."
   ]
  },
  {
   "cell_type": "markdown",
   "metadata": {},
   "source": [
    "### Exploratory Data Analysis\n",
    "\n",
    "Perform an (initial) exploratory data analysis.\n",
    "\n",
    "1. Collinearity test\n",
    "2. Multivariate regression model\n",
    "3. Plots\n",
    "4. Summary stats"
   ]
  },
  {
   "cell_type": "markdown",
   "metadata": {},
   "source": [
    "### Questions for Reviewers\n",
    "\n",
    "List specific questions for your peer reviewers\n",
    "and project mentor to answer in giving you feedback on this phase."
   ]
  }
 ],
 "metadata": {
  "kernelspec": {
   "display_name": "Python 3 (ipykernel)",
   "language": "python",
   "name": "python3"
  },
  "language_info": {
   "codemirror_mode": {
    "name": "ipython",
    "version": 3
   },
   "file_extension": ".py",
   "mimetype": "text/x-python",
   "name": "python",
   "nbconvert_exporter": "python",
   "pygments_lexer": "ipython3",
   "version": "3.9.13"
  }
 },
 "nbformat": 4,
 "nbformat_minor": 2
}
